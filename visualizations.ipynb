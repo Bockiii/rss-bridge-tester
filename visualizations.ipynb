{
 "cells": [
  {
   "cell_type": "code",
   "execution_count": null,
   "id": "68b91a40",
   "metadata": {},
   "outputs": [],
   "source": [
    "from datetime import datetime\n",
    "import numpy as np\n",
    "import pandas as pd\n",
    "import matplotlib.pyplot as plt\n",
    "import seaborn as sb"
   ]
  },
  {
   "cell_type": "code",
   "execution_count": null,
   "id": "a66e3b12",
   "metadata": {},
   "outputs": [],
   "source": [
    "bridges = pd.read_csv(\"stats.csv\")\n",
    "latest = bridges.sort_values(by=\"timestamp\").drop_duplicates(subset=[\"Bridgename\"], keep=\"last\")\n",
    "mean = bridges.groupby(\"Bridgename\").mean().reset_index()\n",
    "bridges.head()"
   ]
  },
  {
   "cell_type": "code",
   "execution_count": null,
   "id": "3244d559",
   "metadata": {},
   "outputs": [],
   "source": [
    "# Plot the number of items a bridge is returning\n",
    "# title is used both as the figure title and for the saved figure filename\n",
    "def plot_items(df, title, figsize, extras=lambda x: x):\n",
    "    fig, ax = plt.subplots(figsize=figsize, facecolor=\"white\")\n",
    "    (df.dropna(subset=[\"items\"])\n",
    "       .sort_values(by=\"items\", ascending=False)\n",
    "       .plot(kind=\"bar\", x=\"Bridgename\", y=\"items\", ax=ax))\n",
    "    ax.set_title(title)\n",
    "    extras(ax)\n",
    "    plt.savefig(title.lower().replace(\" \", \"_\") + \".png\", bbox_inches=\"tight\", dpi=200)\n",
    "\n",
    "# All Bridges (mean)\n",
    "plot_items(mean, \"Average Number of Items by Bridge\", (40, 12), extras=lambda ax: ax.axhline(50, color=\"red\"))\n",
    "\n",
    "# Problem Bridges (mean)\n",
    "plot_items(mean[mean[\"items\"] >= 50], \"Bridges with more than 50 items on Average\", (8, 5))\n",
    "\n",
    "# All Bridges (latest)\n",
    "latest_date = datetime.fromtimestamp(latest[\"timestamp\"].iloc[0]).isoformat()\n",
    "plot_items(latest, f\"Number of Items by Bridge as of {latest_date}\", (40, 12),\n",
    "           extras=lambda ax: ax.axhline(50, color=\"red\"))\n",
    "\n",
    "# Problem Bridges (latest)\n",
    "plot_items(latest[latest[\"items\"] >= 50], f\"Bridges with more than 50 items as of {latest_date}\", (8, 5))\n"
   ]
  },
  {
   "cell_type": "code",
   "execution_count": null,
   "id": "25e3eb89",
   "metadata": {
    "scrolled": false
   },
   "outputs": [],
   "source": [
    "# Pie plot of total bridges status\n",
    "status = latest[\"status\"].fillna(\"Missing Example Values\").value_counts()\n",
    "fig, ax = plt.subplots(figsize=(7,7), facecolor=\"white\")\n",
    "ax.pie(status.values, labels=status.index,\n",
    "       autopct=lambda x: f\"{x:.1f}% ({x * sum(status.values) / 100:.0f})\")\n",
    "plt.savefig(\"bridge_status_pie.png\", bbox_inches=\"tight\", dpi=200)"
   ]
  },
  {
   "cell_type": "code",
   "execution_count": null,
   "id": "b684b514",
   "metadata": {},
   "outputs": [],
   "source": [
    "# Lineplot of runtime\n",
    "n = 15 # Number of bridges to display\n",
    "high_runtime = mean.sort_values(\"runtime\", ascending=False).head(n)[\"Bridgename\"]\n",
    "\n",
    "fig, ax = plt.subplots(figsize=(14, 10), facecolor=\"white\")\n",
    "sb.lineplot(data=(bridges[bridges[\"Bridgename\"].isin(high_runtime)]\n",
    "                  .assign(date=lambda x: pd.to_datetime(x[\"timestamp\"], unit=\"s\"),\n",
    "                          runtime=lambda x: x[\"runtime\"]/1000)),\n",
    "            x=\"date\", y=\"runtime\", hue=\"Bridgename\")\n",
    "plt.legend(loc=\"upper left\", bbox_to_anchor=(1,1))\n",
    "plt.title(f\"{n} Slowest Bridges\")\n",
    "ax.set_ylabel(\"runtime (seconds)\")\n",
    "plt.savefig(f\"{n}_slowest_bridges.png\", bbox_inches=\"tight\", dpi=200)"
   ]
  },
  {
   "cell_type": "code",
   "execution_count": null,
   "id": "20481b6a",
   "metadata": {},
   "outputs": [],
   "source": [
    "labels = [\"working\", \"broken\", \"sizewarning\", \"nan\"]\n",
    "\n",
    "latest_timestamps = np.sort(bridges[\"timestamp\"].unique())#[-30:] # Uncomment this to restrict the number of bridges\n",
    "\n",
    "datamap = (bridges[bridges[\"timestamp\"].isin(latest_timestamps)]\n",
    "           .assign(date=lambda x: pd.to_datetime(x[\"timestamp\"], unit=\"s\"))\n",
    "           .set_index([\"Bridgename\", \"date\"])[\"status\"].unstack()\n",
    "           .fillna(\"nan\").replace({l:i for i, l in enumerate(labels)}))\n",
    "\n",
    "\n",
    "fig, ax = plt.subplots(figsize=(10,80), facecolor=\"white\")\n",
    "sb.heatmap(datamap, cmap=list(np.array(sb.color_palette(\"pastel\"))[[2, 3, 8, 7]]),\n",
    "           linewidth=0.5, square=True, cbar=False)\n",
    "\n",
    "plt.savefig(\"bridge_status_heatmap.png\", bbox_inches=\"tight\", dpi=200)"
   ]
  }
 ],
 "metadata": {
  "kernelspec": {
   "display_name": "data_analysis",
   "language": "python",
   "name": "data_analysis"
  },
  "language_info": {
   "codemirror_mode": {
    "name": "ipython",
    "version": 3
   },
   "file_extension": ".py",
   "mimetype": "text/x-python",
   "name": "python",
   "nbconvert_exporter": "python",
   "pygments_lexer": "ipython3",
   "version": "3.9.9"
  }
 },
 "nbformat": 4,
 "nbformat_minor": 5
}
